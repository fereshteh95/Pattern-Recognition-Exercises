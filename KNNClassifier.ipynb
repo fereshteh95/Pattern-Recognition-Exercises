{
 "cells": [
  {
   "cell_type": "code",
   "execution_count": 1,
   "metadata": {},
   "outputs": [
    {
     "name": "stdout",
     "output_type": "stream",
     "text": [
      "k = 1, CCR = 0.9774156660949114\n",
      "k = 3, CCR = 0.9779874213836478\n",
      "k = 5, CCR = 0.9759862778730704\n",
      "k = 10, CCR = 0.9754145225843339\n"
     ]
    }
   ],
   "source": [
    "import pandas as pd\n",
    "from sklearn.preprocessing import minmax_scale\n",
    "import numpy as np\n",
    "from scipy.stats import multivariate_normal\n",
    "import sklearn as sk\n",
    "from sklearn import covariance\n",
    "from sklearn.metrics import confusion_matrix, classification_report\n",
    "import math\n",
    "\n",
    "def distance(x,y):\n",
    "    n = len(x)\n",
    "    d = 0\n",
    "    for i in range(n):\n",
    "        d = d+(x[i]-y[i])**2\n",
    "    return d**0.5\n",
    "\n",
    "\n",
    "def nearest(x_0,cl,k):\n",
    "    n = len(x_0)  #Dimension\n",
    "    num = len(cl) #number pf samples\n",
    "    dist = np.zeros(num)\n",
    "    dist2 = np.zeros(num)\n",
    "    for i in range(num):\n",
    "        dist[i] = distance(x_0,cl[i])\n",
    "        dist2[i] = distance(x_0,cl[i])\n",
    "        \n",
    "    dist.sort()\n",
    "    idx = [list(dist2).index(i) for i in dist[0:k]]\n",
    "    \n",
    "    return idx\n",
    "    \n",
    "trainData = pd.read_csv('pendigitstrain.csv')\n",
    "testData = pd.read_csv('pendigitstest.csv')\n",
    "\n",
    "TrainLabel = trainData['17']\n",
    "TestLabel = testData['17']\n",
    "\n",
    "TrainFeat = trainData.drop(['17'],axis = 1)\n",
    "TestFeat = testData.drop(['17'],axis = 1)\n",
    "\n",
    "TrainFeatScaled = minmax_scale(TrainFeat, feature_range = (0,1))\n",
    "TestFeatScaled = minmax_scale(TestFeat, feature_range = (0,1))\n",
    "\n",
    "\n",
    "N_T = len(TrainFeatScaled)\n",
    "\n",
    "def decision(x, k):\n",
    "    G = nearest(x,TrainFeatScaled,k)\n",
    "    Classes = [TrainLabel[i] for i in G]\n",
    "    num_Classes = np.zeros(10)\n",
    "    for i in Classes:\n",
    "        if i==0:\n",
    "            num_Classes[0]+=1\n",
    "        elif i==1:\n",
    "            num_Classes[1]+=1\n",
    "        elif i==2:\n",
    "            num_Classes[2]+=1\n",
    "        elif i==3:\n",
    "            num_Classes[3]+=1\n",
    "        elif i==4:\n",
    "            num_Classes[4]+=1\n",
    "        elif i==5:\n",
    "            num_Classes[5]+=1\n",
    "        elif i==6:\n",
    "            num_Classes[6]+=1\n",
    "        elif i==7:\n",
    "            num_Classes[7]+=1\n",
    "        elif i==8:\n",
    "            num_Classes[8]+=1\n",
    "        elif i==9:\n",
    "            num_Classes[9]+=1\n",
    "    \n",
    "        \n",
    "    return list(num_Classes).index(num_Classes.max())\n",
    "\n",
    "TestDecision = np.zeros((len(TestLabel),1))\n",
    "K = [1, 3, 5, 10]\n",
    "\n",
    "for k in K:\n",
    "    CCR = 0\n",
    "    for i in range(len(TestDecision)):\n",
    "        x = TestFeatScaled[i][:]\n",
    "        TestDecision[i][0]=decision(x, k)\n",
    "        if TestDecision[i][0] == TestLabel[i]:\n",
    "            CCR += 1\n",
    "\n",
    "\n",
    "\n",
    "    print('k = {}, CCR = {}'.format(k, CCR/len(TestLabel)))"
   ]
  },
  {
   "cell_type": "code",
   "execution_count": 2,
   "metadata": {},
   "outputs": [
    {
     "name": "stdout",
     "output_type": "stream",
     "text": [
      "[[354   0   0   0   0   0   0   0   1   0]\n",
      " [  0 350   2   1   0   0   0  10   0   3]\n",
      " [  0  11 362   0   0   0   0   1   0   0]\n",
      " [  0   0   0 333   0   5   0   0   0   7]\n",
      " [  0   1   0   0 354   0   0   0   0   1]\n",
      " [  0   0   0   0  10 328   0   0   1   1]\n",
      " [  5   0   0   0   0   0 336   1   0   0]\n",
      " [  0   2   0   0   0   0   0 351   0   4]\n",
      " [  3   0   0   0   0   0   0   1 334   1]\n",
      " [  1   0   0   2   0   2   0   0   0 319]]\n",
      "              precision    recall  f1-score   support\n",
      "\n",
      "           0       0.98      1.00      0.99       355\n",
      "           1       0.96      0.96      0.96       366\n",
      "           2       0.99      0.97      0.98       374\n",
      "           3       0.99      0.97      0.98       345\n",
      "           4       0.97      0.99      0.98       356\n",
      "           5       0.98      0.96      0.97       340\n",
      "           6       1.00      0.98      0.99       342\n",
      "           7       0.96      0.98      0.97       357\n",
      "           8       0.99      0.99      0.99       339\n",
      "           9       0.95      0.98      0.97       324\n",
      "\n",
      "    accuracy                           0.98      3498\n",
      "   macro avg       0.98      0.98      0.98      3498\n",
      "weighted avg       0.98      0.98      0.98      3498\n",
      "\n"
     ]
    },
    {
     "name": "stderr",
     "output_type": "stream",
     "text": [
      "C:\\Program Files\\Anaconda3\\lib\\site-packages\\sklearn\\utils\\validation.py:71: FutureWarning: Pass labels=[0, 1, 2, 3, 4, 5, 6, 7, 8, 9] as keyword args. From version 0.25 passing these as positional arguments will result in an error\n",
      "  FutureWarning)\n"
     ]
    }
   ],
   "source": [
    "from sklearn.neighbors import KNeighborsClassifier\n",
    "\n",
    "knn = KNeighborsClassifier(n_neighbors=3, metric='minkowski',p=2)\n",
    "knn.fit(TrainFeatScaled, TrainLabel)\n",
    "\n",
    "TestDecision = knn.predict(TestFeatScaled)\n",
    "\n",
    "print(confusion_matrix(TestDecision, TestLabel, [0, 1,2,3,4,5,6,7,8,9]))\n",
    "print(classification_report(TestDecision, TestLabel))"
   ]
  },
  {
   "cell_type": "code",
   "execution_count": null,
   "metadata": {},
   "outputs": [],
   "source": []
  }
 ],
 "metadata": {
  "kernelspec": {
   "display_name": "Python 3",
   "language": "python",
   "name": "python3"
  },
  "language_info": {
   "codemirror_mode": {
    "name": "ipython",
    "version": 3
   },
   "file_extension": ".py",
   "mimetype": "text/x-python",
   "name": "python",
   "nbconvert_exporter": "python",
   "pygments_lexer": "ipython3",
   "version": "3.7.6"
  }
 },
 "nbformat": 4,
 "nbformat_minor": 2
}
