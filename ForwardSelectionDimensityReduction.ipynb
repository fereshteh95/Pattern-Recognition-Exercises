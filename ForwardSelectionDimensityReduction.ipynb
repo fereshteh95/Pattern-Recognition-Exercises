{
 "cells": [
  {
   "cell_type": "code",
   "execution_count": 1,
   "metadata": {},
   "outputs": [
    {
     "name": "stdout",
     "output_type": "stream",
     "text": [
      "D:\\SAME\\Msc\\5th semester\\Pattern Recognition\\HWs\\HW4\\Q8\n"
     ]
    }
   ],
   "source": [
    "%cd D:/SAME/Msc/5th semester/Pattern Recognition/HWs/HW4/Q8"
   ]
  },
  {
   "cell_type": "code",
   "execution_count": 8,
   "metadata": {},
   "outputs": [
    {
     "name": "stderr",
     "output_type": "stream",
     "text": [
      "C:\\Program Files\\Anaconda3\\lib\\site-packages\\sklearn\\naive_bayes.py:434: RuntimeWarning: divide by zero encountered in log\n",
      "  n_ij = - 0.5 * np.sum(np.log(2. * np.pi * self.sigma_[i, :]))\n",
      "C:\\Program Files\\Anaconda3\\lib\\site-packages\\sklearn\\naive_bayes.py:436: RuntimeWarning: invalid value encountered in true_divide\n",
      "  (self.sigma_[i, :]), 1)\n"
     ]
    },
    {
     "data": {
      "image/png": "[encoded data removed]",
      "text/plain": [
       "<Figure size 432x288 with 1 Axes>"
      ]
     },
     "metadata": {
      "needs_background": "light"
     },
     "output_type": "display_data"
    }
   ],
   "source": [
    "import pandas as pd\n",
    "import numpy as np\n",
    "from sklearn.preprocessing import minmax_scale\n",
    "from sklearn.naive_bayes import GaussianNB\n",
    "import matplotlib.pyplot as plt \n",
    "\n",
    "\n",
    "def CCRCAL(test,decision):\n",
    "    CCR1 = 0\n",
    "    for j in range(len(decision)):\n",
    "        if test[j][0] == decision[j]:\n",
    "            CCR1 += 1\n",
    "    return CCR1\n",
    "\n",
    "\n",
    "train_data = pd.read_csv('trainData.csv')\n",
    "test_data = pd.read_csv('testData.csv')\n",
    "\n",
    "train_data = np.array(train_data[0:3000][:])\n",
    "test_data = np.array(test_data[0:500][:])\n",
    "\n",
    "train_label = pd.read_csv('trainLabels.csv')\n",
    "test_label = pd.read_csv('testLabels.csv')\n",
    "\n",
    "train_label = train_label[0:3000]\n",
    "test_label = np.array(test_label[0:500])\n",
    "\n",
    "#trainDataScaled = minmax_scale(train_data, feature_range=(0,1))\n",
    "#TestDataScaled = minmax_scale(test_data, feature_range=(0,1))\n",
    "\n",
    "GNB = GaussianNB()\n",
    "\n",
    "selected_feat = 0\n",
    "ccr = 0\n",
    "N = 500\n",
    "for i in range(784):\n",
    "    GNB.fit(train_data[:,[i]],train_label.values.ravel())\n",
    "    test_decision = GNB.predict(test_data[:,[i]])\n",
    "    ccr2 = CCRCAL(test_label, test_decision)/N\n",
    "    if ccr2>ccr:\n",
    "        selected_feat=i\n",
    "        ccr=ccr2\n",
    "        \n",
    "\n",
    "S_F = [selected_feat]\n",
    "CCR = [ccr]\n",
    "for j in range(200):\n",
    "    M = list(range(784))\n",
    "    for l in M:\n",
    "        if l in S_F:\n",
    "            continue\n",
    "        else:    \n",
    "            feat2 = S_F\n",
    "            feat = np.concatenate((feat2,[l]))\n",
    "            GNB.fit(train_data[:,feat],train_label.values.ravel())\n",
    "            test_decision = GNB.predict(test_data[:,feat])\n",
    "            ccr2 = CCRCAL(test_label, test_decision)/N\n",
    "            if ccr2>CCR[j]:\n",
    "                selected_feature2 = l\n",
    "                ccr3 = ccr2\n",
    "    S_F.append(selected_feature2)\n",
    "    CCR.append(ccr3)\n",
    "    \n",
    "plt.plot(CCR)\n",
    "plt.show()"
   ]
  }
 ],
 "metadata": {
  "kernelspec": {
   "display_name": "Python 3",
   "language": "python",
   "name": "python3"
  },
  "language_info": {
   "codemirror_mode": {
    "name": "ipython",
    "version": 3
   },
   "file_extension": ".py",
   "mimetype": "text/x-python",
   "name": "python",
   "nbconvert_exporter": "python",
   "pygments_lexer": "ipython3",
   "version": "3.7.6"
  }
 },
 "nbformat": 4,
 "nbformat_minor": 2
}
