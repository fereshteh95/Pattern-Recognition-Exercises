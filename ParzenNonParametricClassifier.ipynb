{
 "cells": [
  {
   "cell_type": "code",
   "execution_count": 4,
   "metadata": {},
   "outputs": [
    {
     "name": "stdout",
     "output_type": "stream",
     "text": [
      "0.7715837621497998\n",
      "[[353   0   0   0   0   0   0   0  15   0]\n",
      " [  0 104   4   7   0   0   0  52   0   9]\n",
      " [  2 122 339   0   2   0   0 114   0   0]\n",
      " [  0  46   0 327   0  63   1  24   0  56]\n",
      " [  0   1   0   0 329   0   0   3   1  15]\n",
      " [  0   3   0   0   1 207   1   3  24   9]\n",
      " [  1  49   0   0  28  30 333   0   1   0]\n",
      " [  0  36  21   0   3   0   0 166   0   0]\n",
      " [  7   0   0   0   0   0   1   2 295   1]\n",
      " [  0   3   0   2   1  35   0   0   0 246]]\n",
      "              precision    recall  f1-score   support\n",
      "\n",
      "         0.0       0.97      0.96      0.97       368\n",
      "         1.0       0.29      0.59      0.39       176\n",
      "         2.0       0.93      0.59      0.72       579\n",
      "         3.0       0.97      0.63      0.77       517\n",
      "         4.0       0.90      0.94      0.92       349\n",
      "         5.0       0.62      0.83      0.71       248\n",
      "         6.0       0.99      0.75      0.86       442\n",
      "         7.0       0.46      0.73      0.56       226\n",
      "         8.0       0.88      0.96      0.92       306\n",
      "         9.0       0.73      0.86      0.79       287\n",
      "\n",
      "    accuracy                           0.77      3498\n",
      "   macro avg       0.77      0.79      0.76      3498\n",
      "weighted avg       0.84      0.77      0.79      3498\n",
      "\n"
     ]
    },
    {
     "name": "stderr",
     "output_type": "stream",
     "text": [
      "C:\\Program Files\\Anaconda3\\lib\\site-packages\\sklearn\\utils\\validation.py:71: FutureWarning: Pass labels=[0, 1, 2, 3, 4, 5, 6, 7, 8, 9] as keyword args. From version 0.25 passing these as positional arguments will result in an error\n",
      "  FutureWarning)\n"
     ]
    }
   ],
   "source": [
    "import pandas as pd\n",
    "from sklearn.preprocessing import minmax_scale\n",
    "import numpy as np\n",
    "from scipy.stats import multivariate_normal\n",
    "import sklearn as sk\n",
    "from sklearn import covariance\n",
    "from sklearn.metrics import confusion_matrix, classification_report\n",
    "\n",
    "def Kernel(x_0,x,h):\n",
    "    n = len(x_0)\n",
    "    dist = np.zeros(n)\n",
    "    for i in range(n):\n",
    "        dist[i]=abs(x_0[i]-x[i])/h\n",
    "    if all(i <= 0.5 for i in dist):\n",
    "        return 1\n",
    "    else:\n",
    "        return 0\n",
    "\n",
    "def parzenprob(x_0,cl,h):\n",
    "    n = len(x_0)\n",
    "    V = h**n\n",
    "    num = len(cl)\n",
    "    denum = V*num\n",
    "    p = 0\n",
    "    for i in range(num):\n",
    "        p = p+Kernel(x_0,cl[i][:],h)\n",
    "    \n",
    "    return p/denum\n",
    "    \n",
    "trainData = pd.read_csv('pendigitstrain.csv')\n",
    "testData = pd.read_csv('pendigitstest.csv')\n",
    "\n",
    "TrainLabel = trainData['17']\n",
    "TestLabel = testData['17']\n",
    "\n",
    "TrainFeat = trainData.drop(['17'],axis = 1)\n",
    "TestFeat = testData.drop(['17'],axis = 1)\n",
    "\n",
    "TrainFeatScaled = minmax_scale(TrainFeat, feature_range = (0,1))\n",
    "TestFeatScaled = minmax_scale(TestFeat, feature_range = (0,1))\n",
    "\n",
    "\n",
    "def decision(x, X, Y):\n",
    "    probability_List = []\n",
    "    num_classes = len(np.unique(Y))\n",
    "    shrinkage = 0.15\n",
    "    N_T = len(X)\n",
    "    h = 1\n",
    "    for i in range(num_classes):\n",
    "        X_train = X[Y==i]\n",
    "        probability = parzenprob(x,X_train,h)*(len(X_train)/N_T)\n",
    "        probability_List.append(probability)\n",
    "    return probability_List.index(max(probability_List))\n",
    "\n",
    "\n",
    "\n",
    "TestDecision = np.zeros((len(TestLabel),1))\n",
    "CCR = 0\n",
    "for i in range(len(TestDecision)):\n",
    "    x = TestFeatScaled[i][:]\n",
    "    TestDecision[i][0]=decision(x, TrainFeatScaled, TrainLabel)\n",
    "    if TestDecision[i][0] == TestLabel[i]:\n",
    "        CCR += 1\n",
    "\n",
    "\n",
    "\n",
    "print(CCR/len(TestLabel))\n",
    "\n",
    "print(confusion_matrix(TestDecision, TestLabel, [0, 1,2,3,4,5,6,7,8,9]))\n",
    "print(classification_report(TestDecision, TestLabel))\n"
   ]
  },
  {
   "cell_type": "code",
   "execution_count": 5,
   "metadata": {},
   "outputs": [
    {
     "name": "stdout",
     "output_type": "stream",
     "text": [
      "[[342   0   0   0   0   0   0   0   7   0]\n",
      " [  0 132   3   3   0   0   0  53   0   9]\n",
      " [  0 153 358   0   0   0   0 113   0   0]\n",
      " [  0  20   0 332   0  98   0  12   0  94]\n",
      " [  0   1   0   0 336   0   0   2   0  13]\n",
      " [  0  37   0   0   2 181   0   2  14   5]\n",
      " [ 18  17   0   0  25  24 336   1   0   0]\n",
      " [  0   4   3   0   0   0   0 181   2   0]\n",
      " [  2   0   0   0   0   0   0   0 313   1]\n",
      " [  1   0   0   1   1  32   0   0   0 214]]\n",
      "              precision    recall  f1-score   support\n",
      "\n",
      "           0       0.94      0.98      0.96       349\n",
      "           1       0.36      0.66      0.47       200\n",
      "           2       0.98      0.57      0.72       624\n",
      "           3       0.99      0.60      0.74       556\n",
      "           4       0.92      0.95      0.94       352\n",
      "           5       0.54      0.75      0.63       241\n",
      "           6       1.00      0.80      0.89       421\n",
      "           7       0.50      0.95      0.65       190\n",
      "           8       0.93      0.99      0.96       316\n",
      "           9       0.64      0.86      0.73       249\n",
      "\n",
      "    accuracy                           0.78      3498\n",
      "   macro avg       0.78      0.81      0.77      3498\n",
      "weighted avg       0.85      0.78      0.79      3498\n",
      "\n"
     ]
    },
    {
     "name": "stderr",
     "output_type": "stream",
     "text": [
      "C:\\Program Files\\Anaconda3\\lib\\site-packages\\sklearn\\utils\\validation.py:71: FutureWarning: Pass labels=[0, 1, 2, 3, 4, 5, 6, 7, 8, 9] as keyword args. From version 0.25 passing these as positional arguments will result in an error\n",
      "  FutureWarning)\n"
     ]
    }
   ],
   "source": [
    "from sklearn.neighbors import RadiusNeighborsClassifier\n",
    "\n",
    "RNC = RadiusNeighborsClassifier(radius=1, metric='minkowski', p=2)\n",
    "\n",
    "RNC.fit(TrainFeatScaled, TrainLabel)\n",
    "\n",
    "TestDecision = RNC.predict(TestFeatScaled)\n",
    "\n",
    "print(confusion_matrix(TestDecision, TestLabel, [0, 1,2,3,4,5,6,7,8,9]))\n",
    "print(classification_report(TestDecision, TestLabel))"
   ]
  },
  {
   "cell_type": "code",
   "execution_count": null,
   "metadata": {},
   "outputs": [],
   "source": []
  }
 ],
 "metadata": {
  "kernelspec": {
   "display_name": "Python 3",
   "language": "python",
   "name": "python3"
  },
  "language_info": {
   "codemirror_mode": {
    "name": "ipython",
    "version": 3
   },
   "file_extension": ".py",
   "mimetype": "text/x-python",
   "name": "python",
   "nbconvert_exporter": "python",
   "pygments_lexer": "ipython3",
   "version": "3.7.6"
  }
 },
 "nbformat": 4,
 "nbformat_minor": 2
}
