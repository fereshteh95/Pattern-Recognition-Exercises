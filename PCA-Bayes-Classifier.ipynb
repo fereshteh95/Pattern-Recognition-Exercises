{
 "cells": [
  {
   "cell_type": "code",
   "execution_count": 18,
   "metadata": {},
   "outputs": [
    {
     "name": "stdout",
     "output_type": "stream",
     "text": [
      "D:\\SAME\\Msc\\5th semester\\Pattern Recognition\\HWs\\HW4\\Q9\n"
     ]
    }
   ],
   "source": [
    "%cd D:/SAME/Msc/5th semester/Pattern Recognition/HWs/HW4/Q9"
   ]
  },
  {
   "cell_type": "code",
   "execution_count": 33,
   "metadata": {},
   "outputs": [
    {
     "name": "stdout",
     "output_type": "stream",
     "text": [
      "20\n",
      "\n",
      "0.732\n",
      "\n",
      "0.614\n"
     ]
    },
    {
     "data": {
      "image/png": "[encoded data removed]",
      "text/plain": [
       "<Figure size 432x288 with 1 Axes>"
      ]
     },
     "metadata": {
      "needs_background": "light"
     },
     "output_type": "display_data"
    }
   ],
   "source": [
    "import pandas as pd\n",
    "import numpy as np\n",
    "from numpy import linalg as LA\n",
    "from sklearn.preprocessing import minmax_scale\n",
    "import matplotlib.pyplot as plt\n",
    "from sklearn.naive_bayes import GaussianNB\n",
    "\n",
    "\n",
    "def CCRCAL(test,decision):\n",
    "    CCR1 = 0\n",
    "    for j in range(len(decision)):\n",
    "        if test[j][0] == decision[j]:\n",
    "            CCR1 += 1\n",
    "    return CCR1\n",
    "\n",
    "train_data = pd.read_csv('trainData.csv')\n",
    "test_data = pd.read_csv('testData.csv')\n",
    "train_label = pd.read_csv('trainLabels.csv')\n",
    "train_label = train_label[0:3000]\n",
    "test_label = pd.read_csv('testLabels.csv')\n",
    "test_label = np.array(test_label[0:500])\n",
    "\n",
    "trainscaled = minmax_scale(train_data, feature_range=(0,1))\n",
    "testscaled = minmax_scale(test_data, feature_range=(0,1))\n",
    "\n",
    "train = np.array(trainscaled[0:3000,:])\n",
    "test = np.array(testscaled[0:500,:])\n",
    "\n",
    "AllData = np.concatenate((train, test), axis = 0)\n",
    "\n",
    "mean = AllData.mean(axis=0)\n",
    "\n",
    "cov = np.cov(AllData, rowvar=False)\n",
    "\n",
    "eigval, eigvec = LA.eig(cov)\n",
    "\n",
    "eigValSort = np.sort(eigval)\n",
    "eigValSort2 = eigValSort[::-1]\n",
    "\n",
    "V = np.zeros((eigvec.shape[0],eigvec.shape[1]))\n",
    "for i in range(len(eigValSort)):\n",
    "    idx = list(eigval).index(eigValSort2[i])\n",
    "    V[:][i] = eigvec[:][idx]\n",
    "    \n",
    "V_T = V.T\n",
    "\n",
    "eigscaled = minmax_scale(eigValSort2, feature_range=(0,1))\n",
    "\n",
    "for i in range(len(eigscaled)):\n",
    "    if eigscaled[i]<1.5e-2:\n",
    "        n = i-1\n",
    "        break\n",
    "        \n",
    "\n",
    "V_T = V_T[0:n,:]\n",
    "\n",
    "X_hat = np.zeros((len(AllData),n))\n",
    "for i in range(len(AllData)):\n",
    "    x = AllData[i,:]-mean\n",
    "    X_hat[i,:] = np.matmul(V_T,x)\n",
    "    \n",
    "\n",
    "new_train = X_hat[0:3000,:]\n",
    "new_test = X_hat[3000:3500,:]\n",
    "\n",
    "GNB = GaussianNB()\n",
    "\n",
    "GNB.fit(new_train, train_label.values.ravel())\n",
    "test_decision = GNB.predict(new_test)\n",
    "CCR1 = CCRCAL(test_label, test_decision)\n",
    "\n",
    "GNB.fit(train, train_label.values.ravel())\n",
    "test_decision2 = GNB.predict(test)\n",
    "CCR2 = CCRCAL(test_label, test_decision2)\n",
    "\n",
    "print(n)\n",
    "print()\n",
    "print(CCR1/len(test_label))\n",
    "print()\n",
    "print(CCR2/len(test_label))\n",
    "\n",
    "plt.plot(eigValSort2)\n",
    "plt.show()\n"
   ]
  }
 ],
 "metadata": {
  "kernelspec": {
   "display_name": "Python 3",
   "language": "python",
   "name": "python3"
  },
  "language_info": {
   "codemirror_mode": {
    "name": "ipython",
    "version": 3
   },
   "file_extension": ".py",
   "mimetype": "text/x-python",
   "name": "python",
   "nbconvert_exporter": "python",
   "pygments_lexer": "ipython3",
   "version": "3.7.6"
  }
 },
 "nbformat": 4,
 "nbformat_minor": 2
}
